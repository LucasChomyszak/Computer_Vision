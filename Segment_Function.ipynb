{
  "nbformat": 4,
  "nbformat_minor": 0,
  "metadata": {
    "colab": {
      "provenance": [],
      "authorship_tag": "ABX9TyOhiw8bG/T8fduEYJ7wSEdY",
      "include_colab_link": true
    },
    "kernelspec": {
      "name": "python3",
      "display_name": "Python 3"
    },
    "language_info": {
      "name": "python"
    }
  },
  "cells": [
    {
      "cell_type": "markdown",
      "metadata": {
        "id": "view-in-github",
        "colab_type": "text"
      },
      "source": [
        "<a href=\"https://colab.research.google.com/github/LucasChomyszak/Computer_Vision/blob/main/Segment_Function.ipynb\" target=\"_parent\"><img src=\"https://colab.research.google.com/assets/colab-badge.svg\" alt=\"Open In Colab\"/></a>"
      ]
    },
    {
      "cell_type": "markdown",
      "source": [
        "#Function That will take any image, covert to gray, check the dtype - ensure it is Uint8, Group using the chosen method.\n"
      ],
      "metadata": {
        "id": "N-AyRSzwhdVW"
      }
    },
    {
      "cell_type": "code",
      "execution_count": 17,
      "metadata": {
        "id": "Qe_U5sLShcwH"
      },
      "outputs": [],
      "source": [
        "#takes the path of where the image is stored\n",
        "import skimage as sk\n",
        "from skimage.color import rgb2gray\n",
        "from sklearn.cluster import KMeans\n",
        "import numpy as np\n",
        "import matplotlib.pyplot as plt\n",
        "from skimage import io\n",
        "\n",
        "def Segment(ImPath):\n",
        "\n",
        "\n",
        "\n",
        "  Im_Og=io.imread(ImPath)\n",
        "\n",
        "  Im_gray = rgb2gray(Im_Og)\n",
        "\n",
        "  if Im_gray.dtype != 'uint8':\n",
        "    if Im_gray.dtype=='float64':\n",
        "      Im_gray=Im_gray/Im_gray.max()\n",
        "      Im_gray=Im_gray*255\n",
        "      Im_gray=Im_gray.astype(np.uint8)\n",
        "\n",
        "  Im_gray_flat=Im_gray.reshape(Im_gray.shape[0]*Im_gray.shape[1],1)\n",
        "  Im_gray_flat\n"
      ]
    },
    {
      "cell_type": "code",
      "source": [
        "Image=io.imread(/)"
      ],
      "metadata": {
        "id": "0O2eQi9rlSN1"
      },
      "execution_count": null,
      "outputs": []
    },
    {
      "cell_type": "code",
      "source": [
        "Segment('2008_004653.jpg')"
      ],
      "metadata": {
        "id": "VMjE0W4nj3Nw"
      },
      "execution_count": 18,
      "outputs": []
    }
  ]
}